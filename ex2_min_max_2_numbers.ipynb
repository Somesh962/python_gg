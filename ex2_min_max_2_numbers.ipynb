{
  "nbformat": 4,
  "nbformat_minor": 0,
  "metadata": {
    "colab": {
      "provenance": [],
      "toc_visible": true,
      "authorship_tag": "ABX9TyOTKwkXbK06GSlLp7vhbPWS",
      "include_colab_link": true
    },
    "kernelspec": {
      "name": "python3",
      "display_name": "Python 3"
    },
    "language_info": {
      "name": "python"
    }
  },
  "cells": [
    {
      "cell_type": "markdown",
      "metadata": {
        "id": "view-in-github",
        "colab_type": "text"
      },
      "source": [
        "<a href=\"https://colab.research.google.com/github/Somesh962/python_gg/blob/main/ex2_min_max_2_numbers.ipynb\" target=\"_parent\"><img src=\"https://colab.research.google.com/assets/colab-badge.svg\" alt=\"Open In Colab\"/></a>"
      ]
    },
    {
      "cell_type": "code",
      "execution_count": null,
      "metadata": {
        "id": "VDRTg_sel8a2"
      },
      "outputs": [],
      "source": []
    },
    {
      "cell_type": "markdown",
      "source": [
        "**MINIMUM** **NUMBERS**"
      ],
      "metadata": {
        "id": "KbbMkXvdpfoM"
      }
    },
    {
      "cell_type": "markdown",
      "source": [
        "1.Minimum of two numbers using conditional method."
      ],
      "metadata": {
        "id": "1p1HqZ_UmGwk"
      }
    },
    {
      "cell_type": "code",
      "source": [
        "def minimum(a,b):\n",
        "  if a <= b:\n",
        "    return a\n",
        "  else:\n",
        "    return b\n",
        "\n",
        "a = int(input(\"Enter first number: \"))\n",
        "b = int(input(\"Enter second number: \"))\n",
        "print(minimum(a,b), \"is the minimum number\")"
      ],
      "metadata": {
        "colab": {
          "base_uri": "https://localhost:8080/"
        },
        "id": "3aUzWi-HmVit",
        "outputId": "3bd79394-ac95-4cec-ae0d-4f69075d9935"
      },
      "execution_count": 11,
      "outputs": [
        {
          "output_type": "stream",
          "name": "stdout",
          "text": [
            "Enter first number: 25\n",
            "Enter second number: 44\n",
            "25 is the minimum number\n"
          ]
        }
      ]
    },
    {
      "cell_type": "markdown",
      "source": [
        "2.Minimum of 2 numbers using Min() function.\n",
        "\n"
      ],
      "metadata": {
        "id": "pMwldrAxmlsi"
      }
    },
    {
      "cell_type": "code",
      "source": [
        "a = int(input(\"Enter first number: \"))\n",
        "b = int(input(\"Enter second number: \"))\n",
        "minimum = min(a, b)\n",
        "print(\"The minimum number between\",a,\"and\",b,\"is\",minimum)"
      ],
      "metadata": {
        "colab": {
          "base_uri": "https://localhost:8080/"
        },
        "id": "KPrKUYedmsP6",
        "outputId": "c72bd41d-e985-4635-d1e1-c0bac5996be8"
      },
      "execution_count": 4,
      "outputs": [
        {
          "output_type": "stream",
          "name": "stdout",
          "text": [
            "Enter first number: 854\n",
            "Enter second number: 9\n",
            "The minimun number between 854 and 9 is 9\n"
          ]
        }
      ]
    },
    {
      "cell_type": "markdown",
      "source": [
        "3.Minimum of 2 numbers using the reduce function of functools module."
      ],
      "metadata": {
        "id": "onuZjk4ZoMUo"
      }
    },
    {
      "cell_type": "code",
      "source": [
        "from functools import reduce\n",
        "# get 2 numbers from user\n",
        "a = int(input(\"Enter first number: \"))\n",
        "b = int(input(\"Enter second number: \"))\n",
        "\n",
        "minimum = reduce(lambda x, y: x if x < y else y, [a, b])\n",
        "print(\"The minimum number between\",a,\"and\",b,\"is\",minimum)\n"
      ],
      "metadata": {
        "colab": {
          "base_uri": "https://localhost:8080/"
        },
        "id": "hpCp2w5roZDY",
        "outputId": "45e33322-5fed-4054-d8db-7d0f196394f5"
      },
      "execution_count": 7,
      "outputs": [
        {
          "output_type": "stream",
          "name": "stdout",
          "text": [
            "Enter first number: 14\n",
            "Enter second number: 10\n",
            "The minimum number between 14 and 10 is 10\n"
          ]
        }
      ]
    },
    {
      "cell_type": "markdown",
      "source": [
        "**MAXIMUM** **NUMBERS**"
      ],
      "metadata": {
        "id": "JSV7aIS6plpl"
      }
    },
    {
      "cell_type": "markdown",
      "source": [
        "1.Maximum of two numbers using conditional method."
      ],
      "metadata": {
        "id": "hpinuKMgpoi0"
      }
    },
    {
      "cell_type": "code",
      "source": [
        "# Taking user input for 2 numbers\n",
        "\n",
        "def maximum(a,b):\n",
        "  if a >= b:\n",
        "    return a\n",
        "  else:\n",
        "    return b\n",
        "\n",
        "a = int(input(\"Enter first number: \"))\n",
        "b = int(input(\"Enter second number: \"))\n",
        "print(maximum(a,b), \"is the maximum number\")"
      ],
      "metadata": {
        "colab": {
          "base_uri": "https://localhost:8080/"
        },
        "id": "wawn4nF_puok",
        "outputId": "343f13e5-8d98-4b9e-b936-1d2bd93aea91"
      },
      "execution_count": 10,
      "outputs": [
        {
          "output_type": "stream",
          "name": "stdout",
          "text": [
            "Enter first number: 52\n",
            "Enter second number: 12\n",
            "52 is the maximum number\n"
          ]
        }
      ]
    },
    {
      "cell_type": "markdown",
      "source": [
        "2.Maximum of 2 numbers using Max() function.\n"
      ],
      "metadata": {
        "id": "GhHMUOqMp6HL"
      }
    },
    {
      "cell_type": "code",
      "source": [
        "def maximum(a,b):\n",
        "  maximum = max(a, b)\n",
        "  return maximum\n",
        "\n",
        "a = int(input(\"Enter first number: \"))\n",
        "b = int(input(\"Enter second number: \"))\n",
        "print(maximum(a,b), \"is the maximum number\")\n",
        "print(\"The maximum number between {0} and {1} is {2}\".format(a,b,maximum(a,b) ))"
      ],
      "metadata": {
        "colab": {
          "base_uri": "https://localhost:8080/"
        },
        "id": "kqEjzK4QrhW6",
        "outputId": "36aa95a7-dcbb-43f1-8e67-d22825513579"
      },
      "execution_count": 17,
      "outputs": [
        {
          "output_type": "stream",
          "name": "stdout",
          "text": [
            "Enter first number: 42\n",
            "Enter second number: 1\n",
            "42 is the maximum number\n",
            "The maximum number between 42 and 1 is 42\n"
          ]
        }
      ]
    },
    {
      "cell_type": "markdown",
      "source": [
        "3.Maximum of two numbers Using lambda function"
      ],
      "metadata": {
        "id": "87DN7t1atKzP"
      }
    },
    {
      "cell_type": "code",
      "source": [
        "a = int(input(\"Enter first number: \"))\n",
        "b = int(input(\"Enter second number: \"))\n",
        "maximum = lambda a, b: a if a > b else b\n",
        "print(\"The maximum number between\",a,\"and\",b,\"is\",maximum(a,b))\n",
        "print(f'{maximum(a,b)} is a maximum number between {a} and {b}')"
      ],
      "metadata": {
        "colab": {
          "base_uri": "https://localhost:8080/"
        },
        "id": "1I9FKiZqtanb",
        "outputId": "ab009ab2-b370-4bb2-926e-1b4d57c55663"
      },
      "execution_count": 19,
      "outputs": [
        {
          "output_type": "stream",
          "name": "stdout",
          "text": [
            "Enter first number: 654\n",
            "Enter second number: 123\n",
            "The maximum number between 654 and 123 is 654\n",
            "654 is a maximum number between 654 and 123\n"
          ]
        }
      ]
    },
    {
      "cell_type": "markdown",
      "source": [
        "4.Maximum of two numbers Using list comprehension"
      ],
      "metadata": {
        "id": "FPuQ_lk9ujDv"
      }
    },
    {
      "cell_type": "code",
      "source": [
        "a = int(input(\"Enter first number: \"))\n",
        "b = int(input(\"Enter second number: \"))\n",
        "x=[a if a>b else b]\n",
        "print(\"maximum number is:\",x)"
      ],
      "metadata": {
        "colab": {
          "base_uri": "https://localhost:8080/"
        },
        "id": "5HQp66KQulIe",
        "outputId": "c07174cf-447b-496f-9f87-201282e7a174"
      },
      "execution_count": 20,
      "outputs": [
        {
          "output_type": "stream",
          "name": "stdout",
          "text": [
            "Enter first number: 21\n",
            "Enter second number: 47\n",
            "maximum number is: [47]\n"
          ]
        }
      ]
    }
  ]
}