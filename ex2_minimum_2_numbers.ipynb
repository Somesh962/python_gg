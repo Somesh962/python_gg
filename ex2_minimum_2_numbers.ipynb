{
  "nbformat": 4,
  "nbformat_minor": 0,
  "metadata": {
    "colab": {
      "provenance": [],
      "authorship_tag": "ABX9TyPhFAyyzQ6l96G2WAUnMbEM",
      "include_colab_link": true
    },
    "kernelspec": {
      "name": "python3",
      "display_name": "Python 3"
    },
    "language_info": {
      "name": "python"
    }
  },
  "cells": [
    {
      "cell_type": "markdown",
      "metadata": {
        "id": "view-in-github",
        "colab_type": "text"
      },
      "source": [
        "<a href=\"https://colab.research.google.com/github/Somesh962/python_gg/blob/main/ex2_minimum_2_numbers.ipynb\" target=\"_parent\"><img src=\"https://colab.research.google.com/assets/colab-badge.svg\" alt=\"Open In Colab\"/></a>"
      ]
    },
    {
      "cell_type": "code",
      "execution_count": null,
      "metadata": {
        "id": "VDRTg_sel8a2"
      },
      "outputs": [],
      "source": []
    },
    {
      "cell_type": "markdown",
      "source": [
        "1.Minimum of two numbers using conditional method."
      ],
      "metadata": {
        "id": "1p1HqZ_UmGwk"
      }
    },
    {
      "cell_type": "code",
      "source": [
        "a = int(input(\"Enter first number: \"))\n",
        "b = int(input(\"Enter second number: \"))\n",
        "if(a < b):\n",
        "  print(a, \"is smaller\")\n",
        "else:\n",
        "  print(b, \"is smaller\")"
      ],
      "metadata": {
        "colab": {
          "base_uri": "https://localhost:8080/"
        },
        "id": "3aUzWi-HmVit",
        "outputId": "6d50175b-55de-4903-e2a1-ef8b183d067f"
      },
      "execution_count": 1,
      "outputs": [
        {
          "output_type": "stream",
          "name": "stdout",
          "text": [
            "Enter first number: 5\n",
            "Enter second number: 2\n",
            "2 is smaller\n"
          ]
        }
      ]
    },
    {
      "cell_type": "markdown",
      "source": [
        "2.Minimum of 2 numbers using Min() function."
      ],
      "metadata": {
        "id": "pMwldrAxmlsi"
      }
    },
    {
      "cell_type": "code",
      "source": [
        "a = int(input(\"Enter first number: \"))\n",
        "b = int(input(\"Enter second number: \"))\n",
        "minimum = min(a, b)\n",
        "print(\"The minimum number between\",a,\"and\",b,\"is\",minimum)"
      ],
      "metadata": {
        "colab": {
          "base_uri": "https://localhost:8080/"
        },
        "id": "KPrKUYedmsP6",
        "outputId": "c72bd41d-e985-4635-d1e1-c0bac5996be8"
      },
      "execution_count": 4,
      "outputs": [
        {
          "output_type": "stream",
          "name": "stdout",
          "text": [
            "Enter first number: 854\n",
            "Enter second number: 9\n",
            "The minimun number between 854 and 9 is 9\n"
          ]
        }
      ]
    },
    {
      "cell_type": "markdown",
      "source": [
        "3.Minimum of 2 numbers using the reduce function of functools module."
      ],
      "metadata": {
        "id": "onuZjk4ZoMUo"
      }
    },
    {
      "cell_type": "code",
      "source": [
        "from functools import reduce\n",
        "# get 2 numbers from user\n",
        "a = int(input(\"Enter first number: \"))\n",
        "b = int(input(\"Enter second number: \"))\n",
        "\n",
        "minimum = reduce(lambda x, y: x if x < y else y, [a, b])\n",
        "print(\"The minimum number between\",a,\"and\",b,\"is\",minimum)\n"
      ],
      "metadata": {
        "colab": {
          "base_uri": "https://localhost:8080/"
        },
        "id": "hpCp2w5roZDY",
        "outputId": "45e33322-5fed-4054-d8db-7d0f196394f5"
      },
      "execution_count": 7,
      "outputs": [
        {
          "output_type": "stream",
          "name": "stdout",
          "text": [
            "Enter first number: 14\n",
            "Enter second number: 10\n",
            "The minimum number between 14 and 10 is 10\n"
          ]
        }
      ]
    }
  ]
}